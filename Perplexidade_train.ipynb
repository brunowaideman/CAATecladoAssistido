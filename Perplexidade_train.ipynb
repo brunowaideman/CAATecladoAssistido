{
 "cells": [
  {
   "cell_type": "code",
   "execution_count": null,
   "id": "fe2adc55-78b4-4bab-982e-f1442073bb23",
   "metadata": {},
   "outputs": [],
   "source": [
    "import os\n",
    "import csv\n",
    "import numpy as np\n",
    "import pandas as pd\n",
    "import os\n",
    "import re\n",
    "import itertools\n",
    "import collections\n",
    "import tqdm\n",
    "import random\n",
    "import sys\n",
    "import pickle"
   ]
  },
  {
   "cell_type": "code",
   "execution_count": null,
   "id": "3b0c3691-13bc-472d-b406-c60a84cd15a5",
   "metadata": {},
   "outputs": [],
   "source": [
    "# Ler Arquivos de Teste\n",
    "arquivosTest = list(os.walk('Bases/TestePerplexidade/Train/'))[0][2]\n",
    "\n",
    "corpus = ''\n",
    "for a in arquivosTest:\n",
    "        with open('Bases/TestePerplexidade/Train/' + a,'r', encoding='iso-8859-1') as f:\n",
    "                corpus = corpus + f.read()"
   ]
  },
  {
   "cell_type": "code",
   "execution_count": null,
   "id": "7a89326e-29b9-411f-bc94-7c1370f67067",
   "metadata": {},
   "outputs": [],
   "source": [
    "def tokenize (txt):\n",
    "    p = re.finditer ('(?:<TEXT>).*?(?:</TEXT>)',txt,flags=re.DOTALL|re.MULTILINE)\n",
    "    for a in p:\n",
    "        for x in re.finditer('[a-zA-ZâêîôûáéíóúàèìòùãẽĩõũçÁÉÍÓÚÀÈÌÒÙÃẼĨÕŨÂÊÎÔÛÇ]+|<TEXT>|</TEXT>|\\.',a.group(),flags=re.DOTALL|re.MULTILINE):\n",
    "            t = x.group()\n",
    "            if t=='<TEXT>':\n",
    "                yield '<s>'\n",
    "                yield '<s>'\n",
    "                yield '<s>'\n",
    "            elif t == '</TEXT>':\n",
    "                yield '</s>'\n",
    "                yield '</s>'\n",
    "                yield '</s>'\n",
    "            elif t == '.':\n",
    "                yield '</s>'\n",
    "                yield '</s>'\n",
    "                yield '</s>'\n",
    "                yield '<s>'\n",
    "                yield '<s>'\n",
    "                yield '<s>'\n",
    "            else:\n",
    "                yield t.lower()"
   ]
  },
  {
   "cell_type": "code",
   "execution_count": null,
   "id": "05afbd5a-af66-49d5-950e-1f6f148e5016",
   "metadata": {},
   "outputs": [],
   "source": [
    "# Total de Palavras\n",
    "totalpalavras=0\n",
    "for d in tokenize(corpus):\n",
    "        totalpalavras+=1\n",
    "print(totalpalavras)"
   ]
  },
  {
   "cell_type": "code",
   "execution_count": null,
   "id": "7745d3d9-da85-48de-bcf0-4292c3629ee3",
   "metadata": {},
   "outputs": [],
   "source": [
    "# Total de Palavras Distintas\n",
    "inverseDict={}\n",
    "total=0\n",
    "for p in tokenize(corpus):\n",
    "    if p not in inverseDict:\n",
    "        inverseDict[p]=total\n",
    "        total+=1\n",
    "len(inverseDict)"
   ]
  },
  {
   "cell_type": "code",
   "execution_count": null,
   "id": "a6f78ba7-5967-4398-bd19-530ca766eba8",
   "metadata": {},
   "outputs": [],
   "source": [
    "def slidingWindow(winsize):\n",
    "    def itt(tokenizedText):\n",
    "        iters=itertools.tee(tokenizedText,winsize)\n",
    "        for x in range(winsize):\n",
    "            for i in range(x):\n",
    "                next(iters[x])\n",
    "        while True:\n",
    "            try:\n",
    "                yield tuple([next(it) for it in iters])\n",
    "            except StopIteration:\n",
    "                return\n",
    "    return itt"
   ]
  },
  {
   "cell_type": "code",
   "execution_count": null,
   "id": "d02a5678-b5d7-4d89-8a13-0ab699aae46a",
   "metadata": {},
   "outputs": [],
   "source": [
    "f4 = slidingWindow(4)\n",
    "f3 = slidingWindow(3)\n",
    "f2 = slidingWindow(2)\n",
    "quatro = f4(tokenize(corpus))\n",
    "tres = f3(tokenize(corpus))\n",
    "dois = f2(tokenize(corpus))\n",
    "um = tokenize(corpus)"
   ]
  },
  {
   "cell_type": "code",
   "execution_count": null,
   "id": "a1d5b594-8c0c-491c-b3c0-1164097b40fa",
   "metadata": {},
   "outputs": [],
   "source": [
    "total = sum(1 for _ in tokenize(corpus))\n",
    "print (total)"
   ]
  },
  {
   "cell_type": "code",
   "execution_count": null,
   "id": "d54a754c-457e-4ef9-80a3-16193a45524b",
   "metadata": {},
   "outputs": [],
   "source": [
    "contador={}"
   ]
  },
  {
   "cell_type": "code",
   "execution_count": null,
   "id": "511c2c2d-9ab8-4c29-b970-12dd71181cd3",
   "metadata": {},
   "outputs": [],
   "source": [
    "for a,b,c,d in tqdm.tqdm(zip(um,dois,tres,quatro),total=total):\n",
    "    if a not in contador:\n",
    "        contador[a]={None: 1}\n",
    "    else:\n",
    "        contador[a][None]+=1\n",
    "        \n",
    "    if b[1] not in contador[b[0]]:\n",
    "        contador[b[0]][b[1]]={None: 1}\n",
    "    else:\n",
    "        contador[b[0]][b[1]][None]+=1\n",
    "    \n",
    "    if c[2] not in contador[c[0]][c[1]]:\n",
    "        contador[c[0]][c[1]][c[2]] = {None: 1}\n",
    "    else:\n",
    "        contador[c[0]][c[1]][c[2]][None] += 1\n",
    "        \n",
    "    if d[3] not in contador[d[0]][d[1]][d[2]]:\n",
    "        contador[d[0]][d[1]][d[2]][d[3]] = 1\n",
    "    else:\n",
    "        contador[d[0]][d[1]][d[2]][d[3]] += 1  "
   ]
  },
  {
   "cell_type": "code",
   "execution_count": null,
   "id": "4c2e14d0-c7a6-46ea-bb36-55c7aa549ab9",
   "metadata": {},
   "outputs": [],
   "source": [
    "with open('Bases/TestePerplexidade/recPerplexidade.pickle', 'wb') as handle:\n",
    "    pickle.dump(contador, handle, protocol=pickle.HIGHEST_PROTOCOL)"
   ]
  },
  {
   "cell_type": "code",
   "execution_count": null,
   "id": "c76c06b6-4688-4b6d-bba6-0dbbc7743a59",
   "metadata": {},
   "outputs": [],
   "source": []
  },
  {
   "cell_type": "code",
   "execution_count": null,
   "id": "d1ad40cc-2042-45dc-91c8-6f385d0e775f",
   "metadata": {},
   "outputs": [],
   "source": []
  }
 ],
 "metadata": {
  "kernelspec": {
   "display_name": "Python 3 (ipykernel)",
   "language": "python",
   "name": "python3"
  },
  "language_info": {
   "codemirror_mode": {
    "name": "ipython",
    "version": 3
   },
   "file_extension": ".py",
   "mimetype": "text/x-python",
   "name": "python",
   "nbconvert_exporter": "python",
   "pygments_lexer": "ipython3",
   "version": "3.8.0"
  }
 },
 "nbformat": 4,
 "nbformat_minor": 5
}
