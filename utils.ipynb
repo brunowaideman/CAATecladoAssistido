{
 "cells": [
  {
   "cell_type": "code",
   "execution_count": null,
   "id": "c8de0f2e-671f-48fc-826d-2cead5df8320",
   "metadata": {},
   "outputs": [],
   "source": [
    "import numpy as np"
   ]
  },
  {
   "cell_type": "code",
   "execution_count": null,
   "id": "919d6104-8490-4b5e-8a37-93000a986127",
   "metadata": {},
   "outputs": [],
   "source": [
    "# Returns EAR given eye landmarks\n",
    "def eye_aspect_ratio(eye):\n",
    "    # Compute the euclidean distances between the two sets of\n",
    "    # vertical eye landmarks (x, y)-coordinates\n",
    "    A = np.linalg.norm(eye[1] - eye[5])\n",
    "    B = np.linalg.norm(eye[2] - eye[4])\n",
    "\n",
    "    # Compute the euclidean distance between the horizontal\n",
    "    # eye landmark (x, y)-coordinates\n",
    "    C = np.linalg.norm(eye[0] - eye[3])\n",
    "\n",
    "    # Compute the eye aspect ratio\n",
    "    ear = (A + B) / (2.0 * C)\n",
    "\n",
    "    # Return the eye aspect ratio\n",
    "    return ear"
   ]
  },
  {
   "cell_type": "code",
   "execution_count": null,
   "id": "9a4a92ce-e5cc-48f6-8c3d-6f3b0a773ea4",
   "metadata": {},
   "outputs": [],
   "source": [
    "# Returns MAR given eye landmarks\n",
    "def mouth_aspect_ratio(mouth):\n",
    "    # Compute the euclidean distances between the three sets\n",
    "    # of vertical mouth landmarks (x, y)-coordinates\n",
    "    A = np.linalg.norm(mouth[13] - mouth[19])\n",
    "    B = np.linalg.norm(mouth[14] - mouth[18])\n",
    "    C = np.linalg.norm(mouth[15] - mouth[17])\n",
    "\n",
    "    # Compute the euclidean distance between the horizontal\n",
    "    # mouth landmarks (x, y)-coordinates\n",
    "    D = np.linalg.norm(mouth[12] - mouth[16])\n",
    "\n",
    "    # Compute the mouth aspect ratio\n",
    "    mar = (A + B + C) / (2 * D)\n",
    "\n",
    "    # Return the mouth aspect ratio\n",
    "    return mar"
   ]
  },
  {
   "cell_type": "code",
   "execution_count": null,
   "id": "ed74778e-e5bd-418c-8a2b-c442037f7ffb",
   "metadata": {},
   "outputs": [],
   "source": [
    "# Return direction given the nose and anchor points.\n",
    "def direction(nose_point, anchor_point, w, h, multiple=1):\n",
    "    nx, ny = nose_point\n",
    "    x, y = anchor_point\n",
    "\n",
    "    if nx > x + multiple * w:\n",
    "        return 'right'\n",
    "    elif nx < x - multiple * w:\n",
    "        return 'left'\n",
    "\n",
    "    if ny > y + multiple * h:\n",
    "        return 'down'\n",
    "    elif ny < y - multiple * h:\n",
    "        return 'up'\n",
    "\n",
    "    return '-'"
   ]
  }
 ],
 "metadata": {
  "kernelspec": {
   "display_name": "Python 3",
   "language": "python",
   "name": "python3"
  },
  "language_info": {
   "codemirror_mode": {
    "name": "ipython",
    "version": 3
   },
   "file_extension": ".py",
   "mimetype": "text/x-python",
   "name": "python",
   "nbconvert_exporter": "python",
   "pygments_lexer": "ipython3",
   "version": "3.9.8"
  }
 },
 "nbformat": 4,
 "nbformat_minor": 5
}
