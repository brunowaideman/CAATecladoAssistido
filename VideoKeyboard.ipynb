{
 "cells": [
  {
   "cell_type": "code",
   "execution_count": null,
   "id": "115f1916-4613-4546-9d89-c0f59e286588",
   "metadata": {},
   "outputs": [],
   "source": [
    "import cv2\n",
    "from time import sleep\n",
    "import numpy as np\n",
    "import cvzone\n",
    "from pynput.keyboard import Controller\n",
    "from PIL import ImageFont, ImageDraw, Image"
   ]
  },
  {
   "cell_type": "code",
   "execution_count": null,
   "id": "8e0fd5c9-0b7d-4455-814b-4ef700b3d25f",
   "metadata": {},
   "outputs": [],
   "source": [
    "font_input = ImageFont.truetype(\"C:\\Windows\\Fonts\\\\arialbd.ttf\", 35)\n",
    "font_output = ImageFont.truetype(\"C:\\Windows\\Fonts\\\\arialbd.ttf\", 45)\n",
    "\n",
    "keys = [[\"Q\", \"W\", \"E\", \"R\", \"T\", \"Y\", \"U\", \"I\", \"O\", \"P\"],\n",
    "        [\"A\", \"S\", \"D\", \"F\", \"G\", \"H\", \"J\", \"K\", \"L\", \"-\"],\n",
    "        [\"Z\", \"X\", \"C\", \"V\", \"B\", \"N\", \"M\", \"_\", \"<\", \"?\"]]\n",
    "\n",
    "finalText = \"\"\n",
    " \n",
    "keyboard = Controller()"
   ]
  },
  {
   "cell_type": "code",
   "execution_count": null,
   "id": "db463412-0f8b-441a-90d1-0afede8cb522",
   "metadata": {},
   "outputs": [],
   "source": [
    "def drawAll(img, buttonList, alpha):\n",
    "    for button in buttonList:\n",
    "        img = cv2.addWeighted(img, alpha, img, 1 - alpha, 0)\n",
    "        button_x, button_y = button.pos\n",
    "        button_w, button_h = button.size\n",
    "        cvzone.cornerRect(img, (button.pos[0], button.pos[1], button.size[0], button.size[1]),\n",
    "                          20, rt=0)\n",
    "        cv2.rectangle(img, tuple(button.pos), (button_x + button_w, button_y + button_h), (255, 0, 255), cv2.FILLED)\n",
    "        #pil_image = Image.fromarray(img)\n",
    "        #draw = ImageDraw.Draw(pil_image)\n",
    "        #draw.text((button_x + 20, button_y + 10), button.text, font=font_output)\n",
    "        cv2.putText(img, button.text, (button_x + 30, button_y + 75),\n",
    "                    cv2.FONT_HERSHEY_PLAIN, 4, (255, 255, 255), 4)\n",
    "        #img = np.asarray(pil_image)\n",
    "    return img"
   ]
  },
  {
   "cell_type": "code",
   "execution_count": null,
   "id": "0dd02366-a012-4716-afdb-32b7374df1a6",
   "metadata": {},
   "outputs": [],
   "source": [
    "class Button():\n",
    "    def __init__(self, pos, text, size=[105, 105]):\n",
    "        self.pos = pos\n",
    "        self.size = size\n",
    "        self.text = text\n",
    " \n",
    " \n",
    "buttonList = []\n",
    "for i in range(len(keys)):\n",
    "    for j, key in enumerate(keys[i]):\n",
    "        buttonList.append(Button([120 * j + 45, 120 * i + 325], key))"
   ]
  },
  {
   "cell_type": "code",
   "execution_count": 1,
   "id": "194e764e-cf8e-4568-b688-d7569b9d944d",
   "metadata": {},
   "outputs": [],
   "source": [
    "def drawRec(img, alpha, listaRec):\n",
    "    xmin_1, xmax_1, ymin_1, ymax_1 = 45, 270, 160, 225\n",
    "    xmin_2, xmax_2, ymin_2, ymax_2 = 45, 270, 240, 305\n",
    "    for j in range (len(listaRec)):\n",
    "        if j < (len(listaRec)/2):\n",
    "            RecomendationBox = j\n",
    "            if listaRec[j] != \"\":\n",
    "                cv2.rectangle(img, (xmin_1, ymin_1), (xmax_1, ymax_1), (255, 0, 255), cv2.FILLED)\n",
    "                pil_image = Image.fromarray(img)\n",
    "                draw = ImageDraw.Draw(pil_image)\n",
    "                if len(listaRec[j]) > 11:\n",
    "                    listaRecAbrev = listaRec[j][0:8] + \"...\"\n",
    "                    draw.text((int(xmax_1-110-(((len(listaRecAbrev))*18)/2)), 170), listaRecAbrev, font=font_input)\n",
    "                else:\n",
    "                    draw.text((int(xmax_1-110-(((len(listaRec[j]))*18)/2)), 170), listaRec[j], font=font_input)\n",
    "                img = np.asarray(pil_image) \n",
    "                xmin_1 += 240\n",
    "                xmax_1 += 240\n",
    "        else:\n",
    "            RecomendationBox = j\n",
    "            if listaRec[j] != \"\":\n",
    "                cv2.rectangle(img, (xmin_2, ymin_2), (xmax_2, ymax_2), (255, 0, 255), cv2.FILLED)\n",
    "                pil_image = Image.fromarray(img)\n",
    "                draw = ImageDraw.Draw(pil_image)\n",
    "                if len(listaRec[j]) > 11:\n",
    "                        listaRecAbrev = listaRec[j][0:8] + \"...\"\n",
    "                        draw.text((int(xmax_2-110-(((len(listaRecAbrev))*18)/2)), 250), listaRecAbrev, font=font_input)\n",
    "                else:\n",
    "                    draw.text((int(xmax_2-110-(((len(listaRec[j]))*18)/2)), 250), listaRec[j], font=font_input)\n",
    "                img = np.asarray(pil_image)\n",
    "                xmin_2 += 240\n",
    "                xmax_2 += 240    \n",
    "    #img = np.asarray(pil_image) \n",
    "    return img"
   ]
  }
 ],
 "metadata": {
  "kernelspec": {
   "display_name": "Python 3 (ipykernel)",
   "language": "python",
   "name": "python3"
  },
  "language_info": {
   "codemirror_mode": {
    "name": "ipython",
    "version": 3
   },
   "file_extension": ".py",
   "mimetype": "text/x-python",
   "name": "python",
   "nbconvert_exporter": "python",
   "pygments_lexer": "ipython3",
   "version": "3.8.0"
  }
 },
 "nbformat": 4,
 "nbformat_minor": 5
}
