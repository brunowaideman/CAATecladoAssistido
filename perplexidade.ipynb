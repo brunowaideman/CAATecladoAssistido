{
 "cells": [
  {
   "cell_type": "code",
   "execution_count": 1,
   "id": "fccc5460-51bd-4cad-8e17-00f4f20819f9",
   "metadata": {},
   "outputs": [],
   "source": [
    "import numpy as np\n",
    "import pandas as pd\n",
    "import os\n",
    "import re\n",
    "import itertools\n",
    "import collections\n",
    "import tqdm"
   ]
  },
  {
   "cell_type": "code",
   "execution_count": 2,
   "id": "69aee428-1f64-4312-a9a4-84f2d6e749b9",
   "metadata": {},
   "outputs": [],
   "source": [
    "arquivos95 = list(os.walk('Bases/folha95/'))[0][2]\n",
    "arquivos94 = list(os.walk('Bases/folha94/'))[0][2]"
   ]
  },
  {
   "cell_type": "code",
   "execution_count": 3,
   "id": "25103145-b8c3-4c2a-ac47-83265816658b",
   "metadata": {},
   "outputs": [],
   "source": [
    "corpus = ''\n",
    "for a in arquivos95:\n",
    "        with open('Bases/folha95/' + a,'r', encoding='iso-8859-1') as f:\n",
    "                corpus = corpus + f.read()\n",
    "for a in arquivos94:\n",
    "        with open('Bases/folha94/' + a,'r', encoding='iso-8859-1') as f:\n",
    "                corpus = corpus + f.read()"
   ]
  },
  {
   "cell_type": "code",
   "execution_count": 4,
   "id": "972bfe49-9c62-42b6-913c-aa979b24a27f",
   "metadata": {},
   "outputs": [],
   "source": [
    "def tokenize (txt):\n",
    "    p = re.finditer ('(?:<TEXT>).*?(?:</TEXT>)',txt,flags=re.DOTALL|re.MULTILINE)\n",
    "    for a in p:\n",
    "        for x in re.finditer('[a-zA-ZâêîôûáéíóúàèìòùãẽĩõũçÁÉÍÓÚÀÈÌÒÙÃẼĨÕŨÂÊÎÔÛÇ]+|<TEXT>|</TEXT>|\\.',a.group(),flags=re.DOTALL|re.MULTILINE):\n",
    "            t = x.group()\n",
    "            if t=='<TEXT>':\n",
    "                yield '<s>'\n",
    "                yield '<s>'\n",
    "                yield '<s>'\n",
    "            elif t == '</TEXT>':\n",
    "                yield '</s>'\n",
    "                yield '</s>'\n",
    "                yield '</s>' \n",
    "            elif t == '.':\n",
    "                yield '</s>'\n",
    "                yield '</s>'\n",
    "                yield '</s>'  \n",
    "                yield '<s>'\n",
    "                yield '<s>'\n",
    "                yield '<s>'\n",
    "            else:\n",
    "                yield t.lower()"
   ]
  },
  {
   "cell_type": "code",
   "execution_count": 5,
   "id": "61e83acf-901c-4c24-bbf4-58ffc131d6f8",
   "metadata": {},
   "outputs": [],
   "source": [
    "# Total de Palavras\n",
    "totalpalavras=0\n",
    "for d in tokenize(corpus):\n",
    "        totalpalavras+=1"
   ]
  },
  {
   "cell_type": "code",
   "execution_count": 6,
   "id": "f0bd3219-d7cd-43fa-9744-b50f40c7cc95",
   "metadata": {},
   "outputs": [
    {
     "name": "stdout",
     "output_type": "stream",
     "text": [
      "47687662\n"
     ]
    }
   ],
   "source": [
    "print(totalpalavras)"
   ]
  },
  {
   "cell_type": "code",
   "execution_count": 7,
   "id": "58f06522-f875-43f5-8da3-55d3c1f77b80",
   "metadata": {},
   "outputs": [],
   "source": [
    "# Total de Palavras Distintas\n",
    "inverseDict={}\n",
    "total=0\n",
    "for p in tokenize(corpus):\n",
    "    if p not in inverseDict:\n",
    "        inverseDict[p]=total\n",
    "        total+=1"
   ]
  },
  {
   "cell_type": "code",
   "execution_count": 8,
   "id": "d5f0bd24-589d-47ab-a2bb-62595ae05506",
   "metadata": {},
   "outputs": [
    {
     "data": {
      "text/plain": [
       "258504"
      ]
     },
     "execution_count": 8,
     "metadata": {},
     "output_type": "execute_result"
    }
   ],
   "source": [
    "len(inverseDict)"
   ]
  },
  {
   "cell_type": "code",
   "execution_count": 9,
   "id": "6bb323b3-bd85-4b1e-b5c7-badb7815df15",
   "metadata": {},
   "outputs": [],
   "source": [
    "def slidingWindow(winsize):\n",
    "    def itt(tokenizedText):\n",
    "        iters=itertools.tee(tokenizedText,winsize)\n",
    "        for x in range(winsize):\n",
    "            for i in range(x):\n",
    "                next(iters[x])\n",
    "        while True:\n",
    "            try:\n",
    "                yield tuple([next(it) for it in iters])\n",
    "            except StopIteration:\n",
    "                return\n",
    "    return itt"
   ]
  },
  {
   "cell_type": "code",
   "execution_count": 10,
   "id": "41600d25-a54f-4b20-b4df-5ac6e3d2a6ca",
   "metadata": {},
   "outputs": [],
   "source": [
    "f4 = slidingWindow(4)\n",
    "quatro = f4(tokenize(corpus))"
   ]
  },
  {
   "cell_type": "code",
   "execution_count": 11,
   "id": "e19c542d-3ea1-494c-b8d2-02de18ce49f8",
   "metadata": {},
   "outputs": [
    {
     "data": {
      "text/plain": [
       "('<s>', '<s>', '<s>', 'datafolha')"
      ]
     },
     "execution_count": 11,
     "metadata": {},
     "output_type": "execute_result"
    }
   ],
   "source": [
    "next(quatro)"
   ]
  },
  {
   "cell_type": "code",
   "execution_count": 12,
   "id": "41a5ff9b-f410-424e-84aa-3d25a2122575",
   "metadata": {},
   "outputs": [],
   "source": [
    "f4 = slidingWindow(4)\n",
    "f3 = slidingWindow(3)\n",
    "f2 = slidingWindow(2)\n",
    "quatro = f4(tokenize(corpus))\n",
    "tres = f3(tokenize(corpus))\n",
    "#tres2 = f3(tokenize(corpus2))\n",
    "dois = f2(tokenize(corpus))\n",
    "um = tokenize(corpus)"
   ]
  },
  {
   "cell_type": "code",
   "execution_count": 13,
   "id": "fc290451-b839-491c-9b03-c60d51da30b4",
   "metadata": {},
   "outputs": [],
   "source": [
    "total = sum(1 for _ in tokenize(corpus))"
   ]
  },
  {
   "cell_type": "code",
   "execution_count": 14,
   "id": "904415e0-3c32-444f-99f6-597957e56f06",
   "metadata": {},
   "outputs": [],
   "source": [
    "contador={}"
   ]
  },
  {
   "cell_type": "code",
   "execution_count": 15,
   "id": "5b529b77-d3aa-46a5-8214-cdf310f46c72",
   "metadata": {},
   "outputs": [
    {
     "name": "stderr",
     "output_type": "stream",
     "text": [
      "100%|█████████████████████████████████████████████████████████████████▉| 47687659/47687662 [07:20<00:00, 108239.48it/s]\n"
     ]
    }
   ],
   "source": [
    "for a,b,c,d in tqdm.tqdm(zip(um,dois,tres,quatro),total=total):\n",
    "    if a not in contador:\n",
    "        contador[a]={None: 1}\n",
    "    else:\n",
    "        contador[a][None]+=1\n",
    "        \n",
    "    if b[1] not in contador[b[0]]:\n",
    "        contador[b[0]][b[1]]={None: 1}\n",
    "    else:\n",
    "        contador[b[0]][b[1]][None]+=1\n",
    "    \n",
    "    if c[2] not in contador[c[0]][c[1]]:\n",
    "        contador[c[0]][c[1]][c[2]] = {None: 1}\n",
    "    else:\n",
    "        contador[c[0]][c[1]][c[2]][None] += 1\n",
    "   \n",
    "    if d[3] not in contador[d[0]][d[1]][d[2]]:\n",
    "        contador[d[0]][d[1]][d[2]][d[3]] = 1\n",
    "    else:\n",
    "        contador[d[0]][d[1]][d[2]][d[3]] += 1"
   ]
  },
  {
   "cell_type": "code",
   "execution_count": 16,
   "id": "112d0981-937b-4587-b684-01141d251aa5",
   "metadata": {},
   "outputs": [],
   "source": [
    "#contador['<s>']['<s>']['<s>']"
   ]
  },
  {
   "cell_type": "code",
   "execution_count": 42,
   "id": "95d4d372-08d8-4de2-82bf-e98a49f1a405",
   "metadata": {},
   "outputs": [],
   "source": [
    "def analisaFrase(x):\n",
    "    xx = tokenize(x)\n",
    "    tres = f3(tokenize(x))\n",
    "    dois = f2(tokenize(x))\n",
    "    next(dois)\n",
    "    um = tokenize(x)\n",
    "    next(um)\n",
    "    next(um)\n",
    "    prod=0\n",
    "    # Unigrama\n",
    "    w1,w2,w3=1,0,0\n",
    "    # Bigrama\n",
    "    #w1,w2,w3=0,1,0\n",
    "    # Trigrama\n",
    "    #w1,w2,w3=0,0,1\n",
    "    # Interpolação\n",
    "    #w1,w2,w3=0.1,0.2,0.7\n",
    "    i=0\n",
    "    for w in zip(um, dois,tres):\n",
    "        p3=0\n",
    "        p2=0\n",
    "        \n",
    "        if contador[w[2][0]][w[2][1]][None] > 0:\n",
    "            p3 = contador[w[2][0]][w[2][1]][w[2][2]][None]/contador[w[2][0]][w[2][1]][None]\n",
    "            \n",
    "        if contador[w[1][0]][None] > 0:\n",
    "            p2 = contador[w[1][0]][w[1][1]][None]/contador[w[1][0]][None]\n",
    "            \n",
    "        p1 = contador[w[0]][None]/total\n",
    "        \n",
    "        prod = prod + np.log(w1*p1 + w2*p2 + w3*p3)\n",
    "        i+=1\n",
    "    return 1/((np.exp(prod))**(1/i))"
   ]
  },
  {
   "cell_type": "code",
   "execution_count": 43,
   "id": "1204817c-dd92-428e-946c-016bb961c7c5",
   "metadata": {},
   "outputs": [
    {
     "data": {
      "text/plain": [
       "193.10247355629545"
      ]
     },
     "execution_count": 43,
     "metadata": {},
     "output_type": "execute_result"
    }
   ],
   "source": [
    "#Perplexidade Unigrama\n",
    "analisaFrase('<TEXT>Mais de uma vez, como candidato, Fernando Henrique Cardoso</TEXT>')"
   ]
  },
  {
   "cell_type": "code",
   "execution_count": 40,
   "id": "a7f786b5-32a0-4a88-a82b-134fd4fb8381",
   "metadata": {},
   "outputs": [],
   "source": [
    "def analisaFrase(x):\n",
    "    xx = tokenize(x)\n",
    "    tres = f3(tokenize(x))\n",
    "    dois = f2(tokenize(x))\n",
    "    next(dois)\n",
    "    um = tokenize(x)\n",
    "    next(um)\n",
    "    next(um)\n",
    "    prod=0\n",
    "    # Unigrama\n",
    "    #w1,w2,w3=1,0,0\n",
    "    # Bigrama\n",
    "    w1,w2,w3=0,1,0\n",
    "    # Trigrama\n",
    "    #w1,w2,w3=0,0,1\n",
    "    # Interpolação\n",
    "    #w1,w2,w3=0.1,0.2,0.7\n",
    "    i=0\n",
    "    for w in zip(um, dois,tres):\n",
    "        p3=0\n",
    "        p2=0\n",
    "        \n",
    "        if contador[w[2][0]][w[2][1]][None] > 0:\n",
    "            p3 = contador[w[2][0]][w[2][1]][w[2][2]][None]/contador[w[2][0]][w[2][1]][None]\n",
    "            \n",
    "        if contador[w[1][0]][None] > 0:\n",
    "            p2 = contador[w[1][0]][w[1][1]][None]/contador[w[1][0]][None]\n",
    "            \n",
    "        p1 = contador[w[0]][None]/total\n",
    "        \n",
    "        prod = prod + np.log(w1*p1 + w2*p2 + w3*p3)\n",
    "        i+=1\n",
    "    return 1/((np.exp(prod))**(1/i))"
   ]
  },
  {
   "cell_type": "code",
   "execution_count": 41,
   "id": "ee7c35e0-6dac-4a3a-be8f-f5afabb4ef64",
   "metadata": {},
   "outputs": [
    {
     "data": {
      "text/plain": [
       "18.71773826661556"
      ]
     },
     "execution_count": 41,
     "metadata": {},
     "output_type": "execute_result"
    }
   ],
   "source": [
    "#Perplexidade Bigrama\n",
    "analisaFrase('<TEXT>Mais de uma vez, como candidato, Fernando Henrique Cardoso</TEXT>')"
   ]
  },
  {
   "cell_type": "code",
   "execution_count": 38,
   "id": "878e58b2-4f40-4ffc-941b-b36dcbd9b157",
   "metadata": {},
   "outputs": [],
   "source": [
    "def analisaFrase(x):\n",
    "    xx = tokenize(x)\n",
    "    tres = f3(tokenize(x))\n",
    "    dois = f2(tokenize(x))\n",
    "    next(dois)\n",
    "    um = tokenize(x)\n",
    "    next(um)\n",
    "    next(um)\n",
    "    prod=0\n",
    "    # Unigrama\n",
    "    #w1,w2,w3=1,0,0\n",
    "    # Bigrama\n",
    "    #w1,w2,w3=0,1,0\n",
    "    # Trigrama\n",
    "    w1,w2,w3=0,0,1\n",
    "    # Interpolação\n",
    "    #w1,w2,w3=0.1,0.2,0.7\n",
    "    i=0\n",
    "    for w in zip(um, dois,tres):\n",
    "        p3=0\n",
    "        p2=0\n",
    "        \n",
    "        if contador[w[2][0]][w[2][1]][None] > 0:\n",
    "            p3 = contador[w[2][0]][w[2][1]][w[2][2]][None]/contador[w[2][0]][w[2][1]][None]\n",
    "            \n",
    "        if contador[w[1][0]][None] > 0:\n",
    "            p2 = contador[w[1][0]][w[1][1]][None]/contador[w[1][0]][None]\n",
    "            \n",
    "        p1 = contador[w[0]][None]/total\n",
    "        \n",
    "        prod = prod + np.log(w1*p1 + w2*p2 + w3*p3)\n",
    "        i+=1\n",
    "    return 1/((np.exp(prod))**(1/i))"
   ]
  },
  {
   "cell_type": "code",
   "execution_count": 39,
   "id": "c82e1de7-3bdc-4d58-b250-04e7f2446fda",
   "metadata": {},
   "outputs": [
    {
     "data": {
      "text/plain": [
       "13.990084651039636"
      ]
     },
     "execution_count": 39,
     "metadata": {},
     "output_type": "execute_result"
    }
   ],
   "source": [
    "#Perplexidade Trigrama\n",
    "analisaFrase('<TEXT>Mais de uma vez, como candidato, Fernando Henrique Cardoso</TEXT>')"
   ]
  },
  {
   "cell_type": "code",
   "execution_count": 62,
   "id": "2dfa2142-43f1-40e2-9acd-0c284110d08e",
   "metadata": {},
   "outputs": [],
   "source": [
    "def analisaFrase(x):\n",
    "    xx = tokenize(x)\n",
    "    tres = f3(tokenize(x))\n",
    "    dois = f2(tokenize(x))\n",
    "    next(dois)\n",
    "    um = tokenize(x)\n",
    "    next(um)\n",
    "    next(um)\n",
    "    prod=0\n",
    "    w1,w2,w3=0.1,0.2,0.7\n",
    "    i=0\n",
    "    for w in zip(um,dois,tres):\n",
    "        p3=0\n",
    "        p2=0\n",
    "        \n",
    "        if contador[w[2][0]][w[2][1]][None] > 0:\n",
    "            p3 = contador[w[2][0]][w[2][1]][w[2][2]][None]/contador[w[2][0]][w[2][1]][None]\n",
    "            \n",
    "        if contador[w[1][0]][None] > 0:\n",
    "            p2 = contador[w[1][0]][w[1][1]][None]/contador[w[1][0]][None]\n",
    "            \n",
    "        p1 = contador[w[0]][None]/total\n",
    "        \n",
    "        prod = prod + np.log(w1*p1 + w2*p2 + w3*p3)\n",
    "        i+=1\n",
    "    return 1/((np.exp(prod))**(1/i))"
   ]
  },
  {
   "cell_type": "code",
   "execution_count": 84,
   "id": "ea507007-c115-4d5e-a9e1-a7b8e2abdf1f",
   "metadata": {},
   "outputs": [
    {
     "data": {
      "text/plain": [
       "11.864636091986256"
      ]
     },
     "execution_count": 84,
     "metadata": {},
     "output_type": "execute_result"
    }
   ],
   "source": [
    "#Perplexidade Interpolação\n",
    "analisaFrase('<TEXT>das</TEXT>')"
   ]
  },
  {
   "cell_type": "code",
   "execution_count": null,
   "id": "6b8c66cc-08a8-4593-ac51-500fbd940ae1",
   "metadata": {},
   "outputs": [],
   "source": []
  },
  {
   "cell_type": "code",
   "execution_count": null,
   "id": "2fbb6a3a-46be-4853-a568-83c6c33c43e1",
   "metadata": {},
   "outputs": [],
   "source": []
  },
  {
   "cell_type": "code",
   "execution_count": null,
   "id": "5be2cc04-f485-4edd-a12c-fe813a40e942",
   "metadata": {},
   "outputs": [],
   "source": []
  }
 ],
 "metadata": {
  "kernelspec": {
   "display_name": "Python 3 (ipykernel)",
   "language": "python",
   "name": "python3"
  },
  "language_info": {
   "codemirror_mode": {
    "name": "ipython",
    "version": 3
   },
   "file_extension": ".py",
   "mimetype": "text/x-python",
   "name": "python",
   "nbconvert_exporter": "python",
   "pygments_lexer": "ipython3",
   "version": "3.8.0"
  }
 },
 "nbformat": 4,
 "nbformat_minor": 5
}
