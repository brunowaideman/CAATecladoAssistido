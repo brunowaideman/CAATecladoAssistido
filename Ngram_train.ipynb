{
 "cells": [
  {
   "cell_type": "code",
   "execution_count": null,
   "id": "fccc5460-51bd-4cad-8e17-00f4f20819f9",
   "metadata": {},
   "outputs": [],
   "source": [
    "import numpy as np\n",
    "import os\n",
    "import re\n",
    "import itertools\n",
    "import collections\n",
    "import tqdm\n",
    "import pickle\n",
    "import datetime"
   ]
  },
  {
   "cell_type": "code",
   "execution_count": null,
   "id": "69aee428-1f64-4312-a9a4-84f2d6e749b9",
   "metadata": {},
   "outputs": [],
   "source": [
    "arquivos95 = list(os.walk('Bases/folha95/'))[0][2]\n",
    "arquivos94 = list(os.walk('Bases/folha94/'))[0][2]"
   ]
  },
  {
   "cell_type": "code",
   "execution_count": null,
   "id": "e71b1d8c-89e5-4aac-8de3-08605f4749bd",
   "metadata": {},
   "outputs": [],
   "source": [
    "corpus = ''\n",
    "for a in arquivos95:\n",
    "        with open('Bases/folha95/' + a,'r', encoding='iso-8859-1') as f:\n",
    "                corpus = corpus + f.read()\n",
    "for a in arquivos94:\n",
    "        with open('Bases/folha94/' + a,'r', encoding='iso-8859-1') as f:\n",
    "                corpus = corpus + f.read()"
   ]
  },
  {
   "cell_type": "code",
   "execution_count": null,
   "id": "972bfe49-9c62-42b6-913c-aa979b24a27f",
   "metadata": {},
   "outputs": [],
   "source": [
    "def tokenize (txt):\n",
    "    p = re.finditer ('(?:<TEXT>).*?(?:</TEXT>)',txt,flags=re.DOTALL|re.MULTILINE)\n",
    "    for a in p:\n",
    "        for x in re.finditer('[a-zA-ZâêîôûáéíóúàèìòùãẽĩõũçÁÉÍÓÚÀÈÌÒÙÃẼĨÕŨÂÊÎÔÛÇ]+|<TEXT>|</TEXT>|\\.',a.group(),flags=re.DOTALL|re.MULTILINE):\n",
    "            t = x.group()\n",
    "            if t=='<TEXT>':\n",
    "                yield '<s>'\n",
    "                yield '<s>'\n",
    "                yield '<s>'             \n",
    "            elif t == '</TEXT>':\n",
    "                yield '</s>'\n",
    "                yield '</s>'\n",
    "                yield '</s>' \n",
    "            elif t == '.':\n",
    "                yield '</s>'\n",
    "                yield '</s>'\n",
    "                yield '</s>'  \n",
    "                yield '<s>'\n",
    "                yield '<s>'\n",
    "                yield '<s>'\n",
    "            else:\n",
    "                yield t.lower()"
   ]
  },
  {
   "cell_type": "code",
   "execution_count": null,
   "id": "58f06522-f875-43f5-8da3-55d3c1f77b80",
   "metadata": {},
   "outputs": [],
   "source": [
    "inverseDict={}\n",
    "total=0\n",
    "for p in tokenize(corpus):\n",
    "    if p not in inverseDict:\n",
    "        inverseDict[p]=total\n",
    "        total+=1"
   ]
  },
  {
   "cell_type": "code",
   "execution_count": null,
   "id": "d5f0bd24-589d-47ab-a2bb-62595ae05506",
   "metadata": {},
   "outputs": [],
   "source": [
    "len(inverseDict)\n",
    "print (inverseDict)"
   ]
  },
  {
   "cell_type": "code",
   "execution_count": null,
   "id": "6bb323b3-bd85-4b1e-b5c7-badb7815df15",
   "metadata": {},
   "outputs": [],
   "source": [
    "def slidingWindow(winsize):\n",
    "    def itt(tokenizedText):\n",
    "        iters=itertools.tee(tokenizedText,winsize)\n",
    "        for x in range(winsize):\n",
    "            for i in range(x):\n",
    "                next(iters[x])\n",
    "        while True:\n",
    "            try:\n",
    "                yield tuple([next(it) for it in iters])\n",
    "            except StopIteration:\n",
    "                return\n",
    "    return itt"
   ]
  },
  {
   "cell_type": "code",
   "execution_count": null,
   "id": "41600d25-a54f-4b20-b4df-5ac6e3d2a6ca",
   "metadata": {},
   "outputs": [],
   "source": [
    "f4 = slidingWindow(4)\n",
    "quatro = f4(tokenize(corpus))"
   ]
  },
  {
   "cell_type": "code",
   "execution_count": null,
   "id": "e19c542d-3ea1-494c-b8d2-02de18ce49f8",
   "metadata": {},
   "outputs": [],
   "source": [
    "next(quatro)"
   ]
  },
  {
   "cell_type": "code",
   "execution_count": null,
   "id": "41a5ff9b-f410-424e-84aa-3d25a2122575",
   "metadata": {},
   "outputs": [],
   "source": [
    "f4 = slidingWindow(4)\n",
    "f3 = slidingWindow(3)\n",
    "f2 = slidingWindow(2)\n",
    "quatro = f4(tokenize(corpus))\n",
    "tres = f3(tokenize(corpus))\n",
    "dois = f2(tokenize(corpus))\n",
    "um = tokenize(corpus)"
   ]
  },
  {
   "cell_type": "code",
   "execution_count": null,
   "id": "fc290451-b839-491c-9b03-c60d51da30b4",
   "metadata": {},
   "outputs": [],
   "source": [
    "total = sum(1 for _ in tokenize(corpus))"
   ]
  },
  {
   "cell_type": "code",
   "execution_count": null,
   "id": "34fde74e-9fee-4855-a25d-8c1c6989c1cf",
   "metadata": {},
   "outputs": [],
   "source": [
    "print (total)"
   ]
  },
  {
   "cell_type": "code",
   "execution_count": null,
   "id": "904415e0-3c32-444f-99f6-597957e56f06",
   "metadata": {},
   "outputs": [],
   "source": [
    "contador={}"
   ]
  },
  {
   "cell_type": "code",
   "execution_count": null,
   "id": "5b529b77-d3aa-46a5-8214-cdf310f46c72",
   "metadata": {},
   "outputs": [],
   "source": [
    "for a,b,c,d in tqdm.tqdm(zip(um,dois,tres,quatro),total=total):\n",
    "    if a not in contador:\n",
    "        contador[a]={None: 1}\n",
    "    else:\n",
    "        contador[a][None]+=1\n",
    "        \n",
    "    if b[1] not in contador[b[0]]:\n",
    "        contador[b[0]][b[1]]={None: 1}\n",
    "    else:\n",
    "        contador[b[0]][b[1]][None]+=1\n",
    "    \n",
    "    if c[2] not in contador[c[0]][c[1]]:\n",
    "        contador[c[0]][c[1]][c[2]] = {None: 1}\n",
    "    else:\n",
    "        contador[c[0]][c[1]][c[2]][None] += 1\n",
    "        \n",
    "    if d[3] not in contador[d[0]][d[1]][d[2]]:\n",
    "        contador[d[0]][d[1]][d[2]][d[3]] = 1\n",
    "    else:\n",
    "        contador[d[0]][d[1]][d[2]][d[3]] += 1"
   ]
  },
  {
   "cell_type": "code",
   "execution_count": null,
   "id": "1e0b91f0-ef7b-4079-af12-94c0622c98ef",
   "metadata": {},
   "outputs": [],
   "source": [
    "contador['<s>']['<s>']['<s>']['a']/contador['<s>']['<s>']['<s>'][None]"
   ]
  },
  {
   "cell_type": "code",
   "execution_count": null,
   "id": "58660afd-6e4e-4102-b726-1da4d4552728",
   "metadata": {
    "tags": []
   },
   "outputs": [],
   "source": [
    "with open('Bases/recomend/rec.pickle', 'wb') as handle:\n",
    "    pickle.dump(contador, handle, protocol=pickle.HIGHEST_PROTOCOL)"
   ]
  },
  {
   "cell_type": "code",
   "execution_count": null,
   "id": "95d4d372-08d8-4de2-82bf-e98a49f1a405",
   "metadata": {},
   "outputs": [],
   "source": [
    "def analisaFrase(x):\n",
    "    xx = tokenize(x)\n",
    "    tres = f3(tokenize(x))\n",
    "    dois = f2(tokenize(x))\n",
    "    next(dois)\n",
    "    um = tokenize(x)\n",
    "    next(um)\n",
    "    next(um)\n",
    "    prod=0\n",
    "    w1,w2,w3=0.1,0.2,0.7\n",
    "    i=0\n",
    "    for w in zip(um, dois,tres):\n",
    "        p3=0\n",
    "        p2=0\n",
    "        \n",
    "        if contador[w[2][0]][w[2][1]][None] > 0:\n",
    "            p3 = contador[w[2][0]][w[2][1]][w[2][2]][None]/contador[w[2][0]][w[2][1]][None]\n",
    "            \n",
    "        if contador[w[1][0]][None] > 0:\n",
    "            p2 = contador[w[1][0]][w[1][1]][None]/contador[w[1][0]][None]\n",
    "            \n",
    "        p1 = contador[w[0]][None]/total\n",
    "        \n",
    "        prod = prod + np.log(w1*p1 + w2*p2 + w3*p3)\n",
    "        i+=1\n",
    "    return 1/((np.exp(prod))**(1/i))"
   ]
  },
  {
   "cell_type": "code",
   "execution_count": null,
   "id": "893786b3-c214-44ac-ac52-59f174c3fce1",
   "metadata": {},
   "outputs": [],
   "source": []
  }
 ],
 "metadata": {
  "kernelspec": {
   "display_name": "Python 3 (ipykernel)",
   "language": "python",
   "name": "python3"
  },
  "language_info": {
   "codemirror_mode": {
    "name": "ipython",
    "version": 3
   },
   "file_extension": ".py",
   "mimetype": "text/x-python",
   "name": "python",
   "nbconvert_exporter": "python",
   "pygments_lexer": "ipython3",
   "version": "3.8.0"
  }
 },
 "nbformat": 4,
 "nbformat_minor": 5
}
