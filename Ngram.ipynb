{
 "cells": [
  {
   "cell_type": "raw",
   "id": "9f76bc55-5bbc-49a9-a159-9c9c2bf33e5e",
   "metadata": {},
   "source": []
  },
  {
   "cell_type": "code",
   "execution_count": 1,
   "id": "d1815283-8bac-4f56-9e8d-18268609a2d8",
   "metadata": {},
   "outputs": [],
   "source": [
    "import numpy as np\n",
    "import os\n",
    "import re\n",
    "import itertools\n",
    "import collections\n",
    "import tqdm\n",
    "import pickle\n",
    "import datetime\n",
    "from spellchecker import SpellChecker"
   ]
  },
  {
   "cell_type": "code",
   "execution_count": 2,
   "id": "662bdfb2-6f94-4630-9cb8-99a11cfca932",
   "metadata": {
    "tags": []
   },
   "outputs": [],
   "source": [
    "contador_arquivo={}\n",
    "with open('Bases/recomend/rec.pickle', 'rb') as handle:\n",
    "    contador_arquivo = pickle.load(handle)"
   ]
  },
  {
   "cell_type": "code",
   "execution_count": 3,
   "id": "15fd9547-ba88-477e-9a58-d38a808d0e77",
   "metadata": {
    "tags": []
   },
   "outputs": [],
   "source": [
    "def tokenize (txt):\n",
    "    p = re.finditer ('(?:<TEXT>).*?(?:</TEXT>)',txt,flags=re.DOTALL|re.MULTILINE)\n",
    "    for a in p:\n",
    "        for x in re.finditer('[a-zA-ZâêîôûáéíóúàèìòùãẽĩõũçÁÉÍÓÚÀÈÌÒÙÃẼĨÕŨÂÊÎÔÛÇ]+|<TEXT>|</TEXT>|\\.',a.group(),flags=re.DOTALL|re.MULTILINE):\n",
    "            t = x.group()\n",
    "            if t=='<TEXT>':\n",
    "                yield '<s>'\n",
    "                yield '<s>'\n",
    "                yield '<s>'             \n",
    "            elif t == '</TEXT>':\n",
    "                yield '</s>'\n",
    "                yield '</s>'\n",
    "                yield '</s>' \n",
    "            elif t == '.':\n",
    "                yield '</s>'\n",
    "                yield '</s>'\n",
    "                yield '</s>'  \n",
    "                yield '<s>'\n",
    "                yield '<s>'\n",
    "                yield '<s>'\n",
    "            else:\n",
    "                yield t.lower()"
   ]
  },
  {
   "cell_type": "code",
   "execution_count": 4,
   "id": "ce95cf49-529f-424d-9cca-52865d73e79c",
   "metadata": {
    "tags": []
   },
   "outputs": [],
   "source": [
    "def roleta (texto):\n",
    "    texto = list(tokenize('<TEXT>'+texto+'</TEXT>'))\n",
    "    ultimaTriade=texto[-6:-3]\n",
    "    r = np.random.random()\n",
    "    s = 0\n",
    "    \n",
    "    for k,v in contador_arquivo[ultimaTriade[0]][ultimaTriade[1]][ultimaTriade[2]].items():\n",
    "        if k is not None:\n",
    "            perc = contador_arquivo[ultimaTriade[0]][ultimaTriade[1]][ultimaTriade[2]][k]/contador_arquivo[ultimaTriade[0]][ultimaTriade[1]][ultimaTriade[2]][None]\n",
    "            \n",
    "            s = s+perc\n",
    "            \n",
    "            if(s > r):\n",
    "                return k"
   ]
  },
  {
   "cell_type": "code",
   "execution_count": 51,
   "id": "bbb76d2e-c5bc-4012-a1c3-542622c480e0",
   "metadata": {
    "tags": []
   },
   "outputs": [],
   "source": [
    "def recPalavra (texto):\n",
    "    for z in range(1):\n",
    "        listaRec =[]\n",
    "        for x in range(50):\n",
    "            try:\n",
    "                palavra = roleta(texto)\n",
    "                if palavra not in listaRec and palavra !='</s>' and len(listaRec)<10:\n",
    "                    listaRec.append(palavra)\n",
    "            except Exception as e:\n",
    "                break\n",
    "    return listaRec"
   ]
  },
  {
   "cell_type": "code",
   "execution_count": 212,
   "id": "1995629f-684f-4f36-803c-fa1077e8cda6",
   "metadata": {},
   "outputs": [
    {
     "name": "stdout",
     "output_type": "stream",
     "text": [
      "['passada']\n"
     ]
    }
   ],
   "source": [
    "#texto = 'Ele morreu na semana'\n",
    "#listaRec = recPalavra(texto)\n",
    "#print (listaRec)"
   ]
  },
  {
   "cell_type": "code",
   "execution_count": null,
   "id": "d7e69021-106d-486c-95cb-7360d141da38",
   "metadata": {},
   "outputs": [],
   "source": []
  },
  {
   "cell_type": "code",
   "execution_count": null,
   "id": "abcb56ee-cb1b-4c8b-8c02-5d3b471d07b4",
   "metadata": {},
   "outputs": [],
   "source": []
  }
 ],
 "metadata": {
  "kernelspec": {
   "display_name": "Python 3 (ipykernel)",
   "language": "python",
   "name": "python3"
  },
  "language_info": {
   "codemirror_mode": {
    "name": "ipython",
    "version": 3
   },
   "file_extension": ".py",
   "mimetype": "text/x-python",
   "name": "python",
   "nbconvert_exporter": "python",
   "pygments_lexer": "ipython3",
   "version": "3.8.0"
  }
 },
 "nbformat": 4,
 "nbformat_minor": 5
}
